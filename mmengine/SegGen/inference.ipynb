{
 "cells": [
  {
   "cell_type": "code",
   "execution_count": null,
   "metadata": {},
   "outputs": [],
   "source": [
    "import torch\n",
    "import numpy as np\n",
    "from cv2 import imread as imread_bgr\n",
    "# from cv2 import imwrite as imwrite_bgr\n",
    "from skimage.io import imread as imread_rgb\n",
    "from skimage.io import imsave as imsave_rgb\n",
    "from seggenact.model_factory import get_segmentor, get_generator\n",
    "\n",
    "gpu_id = 0\n",
    "device = torch.device(\n",
    "    'cuda:' + str(gpu_id) if torch.cuda.is_available() else 'cpu'\n",
    ")"
   ]
  },
  {
   "cell_type": "code",
   "execution_count": null,
   "metadata": {},
   "outputs": [],
   "source": [
    "seg_model = get_segmentor(\"MaskDINO\", gpu_id)  # \"swin\"  # input image is RGB\n",
    "# seg_model = get_segmentor(\"MaskDINO\", gpu_id, \"resnet\")  # input image is RGB\n",
    "# seg_model = get_segmentor(\"Mask-RCNN\", gpu_id)  # input image is BGR\n",
    "gen_model = get_generator(\"SPADE\", gpu_id)"
   ]
  },
  {
   "cell_type": "code",
   "execution_count": null,
   "metadata": {},
   "outputs": [],
   "source": [
    "img_path = '../000000000785.jpg'\n",
    "# img_path = '../2376735269_b1f0c7f83f_z.jpg'\n",
    "# img_path = '../SPADE/datasets/UCF_first_frame/val_img/v_GolfSwing_g08_c01_000001.jpg'\n",
    "# im = imread_bgr(img_path)  # BGR, HWC\n",
    "im = imread_rgb(img_path)  # RGB, HWC\n",
    "\n",
    "batch_size = 4\n",
    "# making a dummy batch\n",
    "batch = torch.tensor(\n",
    "    np.stack([im.copy()] * batch_size)\n",
    ").permute(0, 3, 1, 2)  # BCHW\n",
    "batch.to(device, non_blocking=True);"
   ]
  },
  {
   "cell_type": "code",
   "execution_count": null,
   "metadata": {},
   "outputs": [],
   "source": [
    "with torch.no_grad():\n",
    "    label_map, instance_map = seg_model.segmentation(batch)\n",
    "    gen_im = gen_model.generate(label_map, instance_map)  # RGB, BCHW\n",
    "\n",
    "for i, (lab, inst, gen) in enumerate(zip(label_map, instance_map, gen_im)):\n",
    "    imsave_rgb(f'./label_map{i}.png', lab.cpu().numpy().astype(np.uint8))\n",
    "    imsave_rgb(f'./instance_map{i}.png', inst.cpu().numpy().astype(np.uint8))\n",
    "    imsave_rgb(f'./gen{i}.png', gen.permute(1, 2, 0).cpu().numpy())  # HWC\n"
   ]
  },
  {
   "cell_type": "code",
   "execution_count": null,
   "metadata": {},
   "outputs": [],
   "source": []
  }
 ],
 "metadata": {
  "kernelspec": {
   "display_name": "Python 3.8.13 ('base')",
   "language": "python",
   "name": "python3"
  },
  "language_info": {
   "codemirror_mode": {
    "name": "ipython",
    "version": 3
   },
   "file_extension": ".py",
   "mimetype": "text/x-python",
   "name": "python",
   "nbconvert_exporter": "python",
   "pygments_lexer": "ipython3",
   "version": "3.8.13"
  },
  "orig_nbformat": 4,
  "vscode": {
   "interpreter": {
    "hash": "d4d1e4263499bec80672ea0156c357c1ee493ec2b1c70f0acce89fc37c4a6abe"
   }
  }
 },
 "nbformat": 4,
 "nbformat_minor": 2
}
